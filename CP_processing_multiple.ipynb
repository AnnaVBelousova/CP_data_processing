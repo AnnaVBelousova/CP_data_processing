{
 "cells": [
  {
   "cell_type": "code",
   "execution_count": 69,
   "metadata": {},
   "outputs": [],
   "source": [
    "import pandas as pd # извлекаем панду  \n",
    "import os # для работы с файлами\n",
    "import re # для регулярных выражений\n",
    "import seaborn as sns # для таблиц\n",
    "from statannotations.Annotator import Annotator # считает достоверности\n",
    "import matplotlib.pyplot as plt #для дизайна графиков\n",
    "from itertools import combinations"
   ]
  },
  {
   "cell_type": "code",
   "execution_count": 70,
   "metadata": {},
   "outputs": [],
   "source": [
    "\n",
    "path_dir = \"F:\\В работу!\" # ссылка на самую верхнюю папку"
   ]
  },
  {
   "cell_type": "code",
   "execution_count": 71,
   "metadata": {},
   "outputs": [],
   "source": [
    "\n",
    "#Эта часть кода выводит название группы и образца из ссылки на таблицу\n",
    "def path_to_group_name(dir_adress): # ссылка на таблицу\n",
    "    index_list = []\n",
    "    # print(dir_adress)\n",
    "    for index,value in enumerate(dir_adress): # проходим все символы в ссылке\n",
    "        if value == \"/\":\n",
    "            index_list.append(index)\n",
    "    \n",
    "    index_group_start,index_group_end = index_list[-3],index_list[-2] # вручную смотрим на индексы и вписываем\n",
    "    index_sample_start,index_sample_end = index_list[-2],index_list[-1] #\n",
    "\n",
    "    group_name = dir_adress[index_group_start+1:index_group_end] # выводим символы  между слешами из ссылки\n",
    "    sample_name = dir_adress[index_sample_start+1:index_sample_end] # \n",
    "    return group_name,sample_name \n"
   ]
  },
  {
   "cell_type": "code",
   "execution_count": 72,
   "metadata": {},
   "outputs": [],
   "source": [
    "#для одного образца создается таблица с нужными колонками \n",
    "def Get_data (correct_path,group_name,sample_name):\n",
    "    islet_data_df_i = pd.read_csv(correct_path) # читает csv как таблицу\n",
    "    data_i = islet_data_df_i[['ImageNumber','AreaShape_Area', 'Children_Islet_nucleus_Count','Children_Object_Glucagon_wo_double_stain_Count',\n",
    "                              'Children_Object_Insulin_Glucagon_Nuclei_Count',\n",
    "                              'Children_Object_Insulin_wo_double_stain_Count']].copy() # берем  колонки из большой таблицы\n",
    "    data_i['Group'] = group_name # добавили к колонкам data_i колонку \"группа\" и заполнили данными(название группы) \n",
    "    data_i['Sample'] = sample_name # \n",
    "    return(data_i)\n",
    "    \n"
   ]
  },
  {
   "cell_type": "code",
   "execution_count": 73,
   "metadata": {},
   "outputs": [
    {
     "name": "stdout",
     "output_type": "stream",
     "text": [
      "    ImageNumber   Area,px  Nucleus_all  Glucagon  Insulin_Glucagon  Insulin  \\\n",
      "0           1.0   13845.0         12.0       4.0               2.0      4.0   \n",
      "1           2.0   26803.0         28.0      10.0               6.0     12.0   \n",
      "2           3.0   17155.0         20.0       8.0              11.0      9.0   \n",
      "3           4.0   82672.0        130.0      66.0              14.0     21.0   \n",
      "0           1.0  174953.0        120.0      31.0              27.0     61.0   \n",
      "..          ...       ...          ...       ...               ...      ...   \n",
      "2           3.0   16996.0         20.0      13.0              20.0      0.0   \n",
      "3           4.0   77934.0         30.0      30.0               0.0      0.0   \n",
      "4           4.0   23028.0         17.0      17.0               0.0      0.0   \n",
      "5           5.0   68028.0         45.0       2.0               1.0      2.0   \n",
      "6           6.0  567363.0        404.0      13.0               6.0      5.0   \n",
      "\n",
      "      Group      Sample  Glucagon_part  Insulin_part  Insulin_Glucagon_part  \\\n",
      "0   STZ-AFG          18      33.333333     33.333333              16.666667   \n",
      "1   STZ-AFG          18      35.714286     42.857143              21.428571   \n",
      "2   STZ-AFG          18      40.000000     45.000000              55.000000   \n",
      "3   STZ-AFG          18      50.769231     16.153846              10.769231   \n",
      "0   STZ-AFG          11      25.833333     50.833333              22.500000   \n",
      "..      ...         ...            ...           ...                    ...   \n",
      "2    Intact  5 (280622)      65.000000      0.000000             100.000000   \n",
      "3    Intact  5 (280622)     100.000000      0.000000               0.000000   \n",
      "4    Intact  5 (280622)     100.000000      0.000000               0.000000   \n",
      "5    Intact  5 (280622)       4.444444      4.444444               2.222222   \n",
      "6    Intact  5 (280622)       3.217822      1.237624               1.485149   \n",
      "\n",
      "    Ins_Gluc_part_from_insulin  Ins_Gluc_part_from_glucagon  \n",
      "0                    50.000000                    50.000000  \n",
      "1                    50.000000                    60.000000  \n",
      "2                   122.222222                   137.500000  \n",
      "3                    66.666667                    21.212121  \n",
      "0                    44.262295                    87.096774  \n",
      "..                         ...                          ...  \n",
      "2                          inf                   153.846154  \n",
      "3                          NaN                     0.000000  \n",
      "4                          NaN                     0.000000  \n",
      "5                    50.000000                    50.000000  \n",
      "6                   120.000000                    46.153846  \n",
      "\n",
      "[159 rows x 13 columns]\n"
     ]
    }
   ],
   "source": [
    "empty_data = {'ImageNumber':[],'AreaShape_Area':[],'Children_Islet_nucleus_Count':[], 'Children_Object_Glucagon_wo_double_stain_Count':[], \n",
    "              'Children_Object_Insulin_Glucagon_Nuclei_Count' :[], 'Children_Object_Insulin_wo_double_stain_Count' :[],'Group':[],'Sample':[]} # это словарь. Заголовок и содержание\n",
    "Number_of_nucleus_df = pd.DataFrame(empty_data) # из словаря сделали таблицу. пустая \n",
    "\n",
    "\n",
    "#Берем нужный файл, применяем к нему функцию, которая делает таблицу с данными и добавляем эти данные в большую таблицу\n",
    "for address, dirs, files in os.walk(path_dir): # выдает строку с адресом последней папки(address), название всех папок(dirs), название файлов\n",
    "    for file in files:\n",
    "        if \".csv\" in str(file):\n",
    "            full_path = os.path.join(address, file) # добавляет файл к адресу\n",
    "            correct_path = full_path.replace(\"\\\\\",\"/\")\n",
    "            group_name,sample_name = path_to_group_name(correct_path)\n",
    "\n",
    "\n",
    "            if \"MyExpt_Islets\" in str(file):\n",
    "                # print(group_name,sample_name)\n",
    "                Result = Get_data(correct_path,group_name,sample_name)# из таблицы MyExpt_Islet вытаскиваем нужные данные для каждого образца с помощью функции Count of Area \n",
    "                \n",
    "                Number_of_nucleus_df = pd.concat([Number_of_nucleus_df,Result],axis=0) # добавляем данные для каждого образца в общую пустую таблицу\n",
    "\n",
    "Number_of_nucleus_df = Number_of_nucleus_df.rename(columns={'AreaShape_Area':'Area,px','Children_Islet_nucleus_Count':'Nucleus_all',\n",
    "                                                             'Children_Object_Glucagon_wo_double_stain_Count':'Glucagon',  \n",
    "                                                             'Children_Object_Insulin_Glucagon_Nuclei_Count': 'Insulin_Glucagon',\n",
    "                                                              'Children_Object_Insulin_wo_double_stain_Count':'Insulin' })\n",
    "\n",
    "\n",
    "Number_of_nucleus_df['Glucagon_part'] = Number_of_nucleus_df['Glucagon'] / Number_of_nucleus_df['Nucleus_all'] *100\n",
    "Number_of_nucleus_df['Insulin_part'] = Number_of_nucleus_df['Insulin'] / Number_of_nucleus_df['Nucleus_all'] *100\n",
    "Number_of_nucleus_df['Insulin_Glucagon_part'] = Number_of_nucleus_df['Insulin_Glucagon'] / Number_of_nucleus_df['Nucleus_all'] *100\n",
    "Number_of_nucleus_df['Ins_Gluc_part_from_insulin'] = Number_of_nucleus_df['Insulin_Glucagon'] / Number_of_nucleus_df['Insulin'] *100\n",
    "Number_of_nucleus_df['Ins_Gluc_part_from_glucagon'] = Number_of_nucleus_df['Insulin_Glucagon'] / Number_of_nucleus_df['Glucagon'] *100\n",
    "print(Number_of_nucleus_df)\n",
    "\n",
    "\n",
    "\n",
    "\n",
    "\n"
   ]
  },
  {
   "cell_type": "code",
   "execution_count": 74,
   "metadata": {},
   "outputs": [],
   "source": [
    "writer = pd.ExcelWriter('C:\\\\Users\\\\Arteys\\\\Desktop\\\\Anya_work\\\\test.xlsx') # \n",
    "\n",
    "Number_of_nucleus_df.to_excel(writer) \n",
    "writer.save()"
   ]
  },
  {
   "cell_type": "code",
   "execution_count": 75,
   "metadata": {},
   "outputs": [],
   "source": [
    "\n",
    "\n",
    "# unique_group= Number_of_nucleus_df['Group'].unique() # достаем уникальные названия групп. unique() выдает список\n",
    "\n",
    "# pairs_1 = []\n",
    "# pairs_2 = []\n",
    "# pairs_3 = []\n",
    "# pairs_4 = []\n",
    "\n",
    "# for group in unique_group:\n",
    "\n",
    "#     pairs_1.append(((group),('Intact')))\n",
    "#     pairs_2.append(((group),('STZ-AFG')))\n",
    "#     pairs_3.append(((group),('30_days')))\n",
    "#     pairs_4.append(((group),('60_days')))\n",
    "# print(pairs_1,pairs_2,pairs_3,pairs_4)\n",
    "\n"
   ]
  },
  {
   "cell_type": "code",
   "execution_count": 76,
   "metadata": {},
   "outputs": [
    {
     "name": "stdout",
     "output_type": "stream",
     "text": [
      "[('STZ-AFG', '30_days'), ('STZ-AFG', '60_days'), ('STZ-AFG', 'Intact'), ('30_days', '60_days'), ('30_days', 'Intact'), ('60_days', 'Intact')]\n"
     ]
    }
   ],
   "source": [
    "\n",
    "\n",
    "unique_group= Number_of_nucleus_df['Group'].unique() # достаем уникальные названия групп. unique() выдает список\n",
    "pairs_1 = []\n",
    "\n",
    "for group1, group2 in combinations(unique_group, 2):\n",
    "    pairs_1.append(((group1),(group2)))\n",
    "\n",
    " "
   ]
  },
  {
   "cell_type": "code",
   "execution_count": null,
   "metadata": {},
   "outputs": [],
   "source": [
    "# fig, axs = plt.subplots(ncols=4) #Количество колонок на панели рисунков\n",
    "# fig.set_size_inches(19.5, 7.5) #Размер панели с рисунками\n",
    "\n",
    "# sns.barplot(data = Number_of_nucleus_df, x = 'Group', y = 'Glucagon_part',ax=axs[0])\n",
    "# sns.barplot(data = Number_of_nucleus_df, x = 'Group', y = 'Glucagon_part',ax=axs[1])\n",
    "# sns.barplot(data = Number_of_nucleus_df, x = 'Group', y = 'Glucagon_part',ax=axs[2])\n",
    "# sns.barplot(data = Number_of_nucleus_df, x = 'Group', y = 'Glucagon_part',ax=axs[3])\n",
    "\n",
    "# annotator = Annotator(axs[0], pairs_1, data=Number_of_nucleus_df, x = 'Group', y = 'Glucagon_part')\n",
    "# annotator.configure(test='Kruskal', text_format='star', loc='inside', comparisons_correction=None)\n",
    "\n",
    "# annotator.apply_and_annotate()\n",
    "\n",
    "# annotator = Annotator(axs[1], pairs_2, data=Number_of_nucleus_df, x = 'Group', y = 'Glucagon_part')\n",
    "# annotator.configure(test='Kruskal', text_format='star', loc='inside', comparisons_correction=None)\n",
    "\n",
    "# annotator.apply_and_annotate()\n",
    "\n",
    "# annotator = Annotator(axs[2], pairs_3, data=Number_of_nucleus_df, x = 'Group', y = 'Glucagon_part')\n",
    "# annotator.configure(test='Kruskal', text_format='star', loc='inside', comparisons_correction=None)\n",
    "\n",
    "# annotator.apply_and_annotate()\n",
    "\n",
    "# annotator = Annotator(axs[3], pairs_4, data=Number_of_nucleus_df, x = 'Group', y = 'Glucagon_part')\n",
    "# annotator.configure(test='Kruskal', text_format='star', loc='inside', comparisons_correction=None)\n",
    "\n",
    "# annotator.apply_and_annotate()\n"
   ]
  },
  {
   "cell_type": "code",
   "execution_count": null,
   "metadata": {},
   "outputs": [],
   "source": [
    "# fig, axs = plt.subplots() #Количество колонок на панели рисунков\n",
    "# # fig.set_size_inches(19.5, 7.5) #Размер панели с рисунками\n",
    "\n",
    "# sns.barplot(data = Number_of_nucleus_df, x = 'Group', y = 'Glucagon_part')\n",
    "\n",
    "# annotator = Annotator(axs, pairs_1, data=Number_of_nucleus_df, x = 'Group', y = 'Glucagon_part')\n",
    "# annotator.configure(test='Kruskal', text_format='star', loc='inside', comparisons_correction=None)\n",
    "\n",
    "# annotator.apply_and_annotate()\n"
   ]
  },
  {
   "cell_type": "code",
   "execution_count": 79,
   "metadata": {},
   "outputs": [
    {
     "name": "stdout",
     "output_type": "stream",
     "text": [
      "p-value annotation legend:\n",
      "      ns: p <= 1.00e+00\n",
      "       *: 1.00e-02 < p <= 5.00e-02\n",
      "      **: 1.00e-03 < p <= 1.00e-02\n",
      "     ***: 1.00e-04 < p <= 1.00e-03\n",
      "    ****: p <= 1.00e-04\n",
      "\n",
      "STZ-AFG vs. 30_days: Kruskal-Wallis independent samples (pairwise between groups), P_val:5.352e-01 Stat=3.844e-01\n",
      "30_days vs. 60_days: Kruskal-Wallis independent samples (pairwise between groups), P_val:3.996e-01 Stat=7.096e-01\n",
      "60_days vs. Intact: Kruskal-Wallis independent samples (pairwise between groups), P_val:1.642e-03 Stat=9.912e+00\n",
      "STZ-AFG vs. 60_days: Kruskal-Wallis independent samples (pairwise between groups), P_val:1.740e-01 Stat=1.848e+00\n",
      "30_days vs. Intact: Kruskal-Wallis independent samples (pairwise between groups), P_val:3.343e-05 Stat=1.721e+01\n",
      "STZ-AFG vs. Intact: Kruskal-Wallis independent samples (pairwise between groups), P_val:3.030e-04 Stat=1.305e+01\n",
      "p-value annotation legend:\n",
      "      ns: p <= 1.00e+00\n",
      "       *: 1.00e-02 < p <= 5.00e-02\n",
      "      **: 1.00e-03 < p <= 1.00e-02\n",
      "     ***: 1.00e-04 < p <= 1.00e-03\n",
      "    ****: p <= 1.00e-04\n",
      "\n",
      "STZ-AFG vs. 30_days: Kruskal-Wallis independent samples (pairwise between groups), P_val:9.358e-01 Stat=6.497e-03\n",
      "30_days vs. 60_days: Kruskal-Wallis independent samples (pairwise between groups), P_val:3.254e-01 Stat=9.670e-01\n",
      "60_days vs. Intact: Kruskal-Wallis independent samples (pairwise between groups), P_val:4.086e-02 Stat=4.182e+00\n",
      "STZ-AFG vs. 60_days: Kruskal-Wallis independent samples (pairwise between groups), P_val:2.408e-01 Stat=1.376e+00\n",
      "30_days vs. Intact: Kruskal-Wallis independent samples (pairwise between groups), P_val:3.440e-02 Stat=4.475e+00\n",
      "STZ-AFG vs. Intact: Kruskal-Wallis independent samples (pairwise between groups), P_val:1.109e-01 Stat=2.542e+00\n",
      "p-value annotation legend:\n",
      "      ns: p <= 1.00e+00\n",
      "       *: 1.00e-02 < p <= 5.00e-02\n",
      "      **: 1.00e-03 < p <= 1.00e-02\n",
      "     ***: 1.00e-04 < p <= 1.00e-03\n",
      "    ****: p <= 1.00e-04\n",
      "\n",
      "STZ-AFG vs. 30_days: Kruskal-Wallis independent samples (pairwise between groups), P_val:4.285e-01 Stat=6.268e-01\n",
      "30_days vs. 60_days: Kruskal-Wallis independent samples (pairwise between groups), P_val:1.449e-01 Stat=2.125e+00\n",
      "60_days vs. Intact: Kruskal-Wallis independent samples (pairwise between groups), P_val:8.787e-01 Stat=2.331e-02\n",
      "STZ-AFG vs. 60_days: Kruskal-Wallis independent samples (pairwise between groups), P_val:5.567e-01 Stat=3.455e-01\n",
      "30_days vs. Intact: Kruskal-Wallis independent samples (pairwise between groups), P_val:1.602e-01 Stat=1.972e+00\n",
      "STZ-AFG vs. Intact: Kruskal-Wallis independent samples (pairwise between groups), P_val:5.753e-01 Stat=3.138e-01\n"
     ]
    },
    {
     "name": "stderr",
     "output_type": "stream",
     "text": [
      "c:\\Users\\Arteys\\AppData\\Local\\Programs\\Python\\Python310\\lib\\site-packages\\numpy\\lib\\function_base.py:4486: RuntimeWarning: invalid value encountered in subtract\n",
      "  diff_b_a = subtract(b, a)\n"
     ]
    },
    {
     "name": "stdout",
     "output_type": "stream",
     "text": [
      "p-value annotation legend:\n",
      "      ns: p <= 1.00e+00\n",
      "       *: 1.00e-02 < p <= 5.00e-02\n",
      "      **: 1.00e-03 < p <= 1.00e-02\n",
      "     ***: 1.00e-04 < p <= 1.00e-03\n",
      "    ****: p <= 1.00e-04\n",
      "\n",
      "STZ-AFG vs. 30_days: Kruskal-Wallis independent samples (pairwise between groups), P_val:4.076e-01 Stat=6.857e-01\n",
      "30_days vs. 60_days: Kruskal-Wallis independent samples (pairwise between groups), P_val:4.886e-03 Stat=7.921e+00\n",
      "60_days vs. Intact: Kruskal-Wallis independent samples (pairwise between groups), P_val:8.273e-02 Stat=3.010e+00\n",
      "STZ-AFG vs. 60_days: Kruskal-Wallis independent samples (pairwise between groups), P_val:3.856e-02 Stat=4.280e+00\n",
      "30_days vs. Intact: Kruskal-Wallis independent samples (pairwise between groups), P_val:2.856e-01 Stat=1.140e+00\n",
      "STZ-AFG vs. Intact: Kruskal-Wallis independent samples (pairwise between groups), P_val:7.950e-01 Stat=6.748e-02\n"
     ]
    },
    {
     "name": "stderr",
     "output_type": "stream",
     "text": [
      "c:\\Users\\Arteys\\AppData\\Local\\Programs\\Python\\Python310\\lib\\site-packages\\numpy\\lib\\function_base.py:4486: RuntimeWarning: invalid value encountered in subtract\n",
      "  diff_b_a = subtract(b, a)\n"
     ]
    },
    {
     "name": "stdout",
     "output_type": "stream",
     "text": [
      "p-value annotation legend:\n",
      "      ns: p <= 1.00e+00\n",
      "       *: 1.00e-02 < p <= 5.00e-02\n",
      "      **: 1.00e-03 < p <= 1.00e-02\n",
      "     ***: 1.00e-04 < p <= 1.00e-03\n",
      "    ****: p <= 1.00e-04\n",
      "\n",
      "STZ-AFG vs. 30_days: Kruskal-Wallis independent samples (pairwise between groups), P_val:1.363e-01 Stat=2.220e+00\n",
      "30_days vs. 60_days: Kruskal-Wallis independent samples (pairwise between groups), P_val:1.029e-01 Stat=2.660e+00\n",
      "60_days vs. Intact: Kruskal-Wallis independent samples (pairwise between groups), P_val:3.751e-02 Stat=4.327e+00\n",
      "STZ-AFG vs. 60_days: Kruskal-Wallis independent samples (pairwise between groups), P_val:8.000e-01 Stat=6.416e-02\n",
      "30_days vs. Intact: Kruskal-Wallis independent samples (pairwise between groups), P_val:3.438e-04 Stat=1.282e+01\n",
      "STZ-AFG vs. Intact: Kruskal-Wallis independent samples (pairwise between groups), P_val:2.109e-02 Stat=5.319e+00\n"
     ]
    },
    {
     "data": {
      "image/png": "[encoded data removed]",
      "text/plain": [
       "<Figure size 432x288 with 1 Axes>"
      ]
     },
     "metadata": {
      "needs_background": "light"
     },
     "output_type": "display_data"
    },
    {
     "data": {
      "image/png": "[encoded data removed]",
      "text/plain": [
       "<Figure size 432x288 with 1 Axes>"
      ]
     },
     "metadata": {
      "needs_background": "light"
     },
     "output_type": "display_data"
    },
    {
     "data": {
      "image/png": "[encoded data removed]",
      "text/plain": [
       "<Figure size 432x288 with 1 Axes>"
      ]
     },
     "metadata": {
      "needs_background": "light"
     },
     "output_type": "display_data"
    },
    {
     "data": {
      "image/png": "[encoded data removed]",
      "text/plain": [
       "<Figure size 432x288 with 1 Axes>"
      ]
     },
     "metadata": {
      "needs_background": "light"
     },
     "output_type": "display_data"
    },
    {
     "data": {
      "image/png": "[encoded data removed]",
      "text/plain": [
       "<Figure size 432x288 with 1 Axes>"
      ]
     },
     "metadata": {
      "needs_background": "light"
     },
     "output_type": "display_data"
    }
   ],
   "source": [
    "def function(data, column):\n",
    "    fig, axs = plt.subplots()\n",
    "    sns.barplot(data = data, x = 'Group', y = column)\n",
    "\n",
    "    annotator = Annotator(axs, pairs_1, data=data, x = 'Group', y = column)\n",
    "    annotator.configure(test='Kruskal', text_format='star', loc='inside', comparisons_correction=None)\n",
    "\n",
    "    annotator.apply_and_annotate()\n",
    "\n",
    "function(Number_of_nucleus_df,'Glucagon_part')\n",
    "function(Number_of_nucleus_df,'Insulin_part')\n",
    "function(Number_of_nucleus_df,'Insulin_Glucagon_part')\n",
    "function(Number_of_nucleus_df,'Ins_Gluc_part_from_insulin')\n",
    "function(Number_of_nucleus_df,'Ins_Gluc_part_from_glucagon')\n",
    "\n",
    "\n"
   ]
  },
  {
   "cell_type": "code",
   "execution_count": null,
   "metadata": {},
   "outputs": [],
   "source": []
  },
  {
   "cell_type": "code",
   "execution_count": null,
   "metadata": {},
   "outputs": [],
   "source": [
    "# fig, axs = plt.subplots(ncols=4) #Количество колонок на панели рисунков\n",
    "# fig.set_size_inches(19.5, 7.5) #Размер панели с рисунками\n",
    "\n",
    "# sns.barplot(data = Number_of_nucleus_df, x = 'Group', y = 'Insulin_part',ax=axs[0])\n",
    "# sns.barplot(data = Number_of_nucleus_df, x = 'Group', y = 'Insulin_part',ax=axs[1])\n",
    "# sns.barplot(data = Number_of_nucleus_df, x = 'Group', y = 'Insulin_part',ax=axs[2])\n",
    "# sns.barplot(data = Number_of_nucleus_df, x = 'Group', y = 'Insulin_part',ax=axs[3])\n",
    "\n",
    "# annotator = Annotator(axs[0], pairs_1, data=Number_of_nucleus_df, x = 'Group', y = 'Insulin_part')\n",
    "# annotator.configure(test='Kruskal', text_format='star', loc='inside', comparisons_correction=None)\n",
    "\n",
    "# annotator.apply_and_annotate()\n",
    "\n",
    "# annotator = Annotator(axs[1], pairs_2, data=Number_of_nucleus_df, x = 'Group', y = 'Insulin_part')\n",
    "# annotator.configure(test='Kruskal', text_format='star', loc='inside', comparisons_correction=None)\n",
    "\n",
    "# annotator.apply_and_annotate()\n",
    "\n",
    "# annotator = Annotator(axs[2], pairs_3, data=Number_of_nucleus_df, x = 'Group', y = 'Insulin_part')\n",
    "# annotator.configure(test='Kruskal', text_format='star', loc='inside', comparisons_correction=None)\n",
    "\n",
    "# annotator.apply_and_annotate()\n",
    "\n",
    "# annotator = Annotator(axs[3], pairs_4, data=Number_of_nucleus_df, x = 'Group', y = 'Insulin_part')\n",
    "# annotator.configure(test='Kruskal', text_format='star', loc='inside', comparisons_correction=None)\n",
    "\n",
    "# annotator.apply_and_annotate()\n",
    "\n"
   ]
  },
  {
   "cell_type": "code",
   "execution_count": null,
   "metadata": {},
   "outputs": [],
   "source": [
    "# fig, axs = plt.subplots(ncols=4) #Количество колонок на панели рисунков\n",
    "# fig.set_size_inches(19.5, 7.5) #Размер панели с рисунками\n",
    "\n",
    "# sns.barplot(data = Number_of_nucleus_df, x = 'Group', y = 'Insulin_Glucagon_part',ax=axs[0])\n",
    "# sns.barplot(data = Number_of_nucleus_df, x = 'Group', y = 'Insulin_Glucagon_part',ax=axs[1])\n",
    "# sns.barplot(data = Number_of_nucleus_df, x = 'Group', y = 'Insulin_Glucagon_part',ax=axs[2])\n",
    "# sns.barplot(data = Number_of_nucleus_df, x = 'Group', y = 'Insulin_Glucagon_part',ax=axs[3])\n",
    "\n",
    "# annotator = Annotator(axs[0], pairs_1, data=Number_of_nucleus_df, x = 'Group', y = 'Insulin_Glucagon_part')\n",
    "# annotator.configure(test='Kruskal', text_format='star', loc='inside', comparisons_correction=None)\n",
    "\n",
    "# annotator.apply_and_annotate()\n",
    "\n",
    "# annotator = Annotator(axs[1], pairs_2, data=Number_of_nucleus_df, x = 'Group', y = 'Insulin_Glucagon_part')\n",
    "# annotator.configure(test='Kruskal', text_format='star', loc='inside', comparisons_correction=None)\n",
    "\n",
    "# annotator.apply_and_annotate()\n",
    "\n",
    "# annotator = Annotator(axs[2], pairs_3, data=Number_of_nucleus_df, x = 'Group', y = 'Insulin_Glucagon_part')\n",
    "# annotator.configure(test='Kruskal', text_format='star', loc='inside', comparisons_correction=None)\n",
    "\n",
    "# annotator.apply_and_annotate()\n",
    "\n",
    "# annotator = Annotator(axs[3], pairs_4, data=Number_of_nucleus_df, x = 'Group', y = 'Insulin_Glucagon_part')\n",
    "# annotator.configure(test='Kruskal', text_format='star', loc='inside', comparisons_correction=None)\n",
    "\n",
    "# annotator.apply_and_annotate()\n",
    "\n"
   ]
  }
 ],
 "metadata": {
  "kernelspec": {
   "display_name": "Python 3",
   "language": "python",
   "name": "python3"
  },
  "language_info": {
   "codemirror_mode": {
    "name": "ipython",
    "version": 3
   },
   "file_extension": ".py",
   "mimetype": "text/x-python",
   "name": "python",
   "nbconvert_exporter": "python",
   "pygments_lexer": "ipython3",
   "version": "3.10.2"
  },
  "orig_nbformat": 4,
  "vscode": {
   "interpreter": {
    "hash": "bd77e5382adf6efaa08b87ef8f7cc4d4ab6a3a8417c5d1f4620176c6b28ea22f"
   }
  }
 },
 "nbformat": 4,
 "nbformat_minor": 2
}
