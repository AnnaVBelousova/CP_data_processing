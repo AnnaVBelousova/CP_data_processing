{
 "cells": [
  {
   "cell_type": "code",
   "execution_count": 1,
   "metadata": {},
   "outputs": [],
   "source": [
    "import pandas as pd # извлекаем панду  \n",
    "import os # для работы с файлами\n",
    "import re # для регулярных выражений\n",
    "import seaborn as sns # для таблиц\n",
    "from statannotations.Annotator import Annotator\n",
    "import matplotlib.pyplot as plt"
   ]
  },
  {
   "cell_type": "code",
   "execution_count": 2,
   "metadata": {},
   "outputs": [],
   "source": [
    "\n",
    "path_dir = \"F:\\В работу!\" # ссылка на самую верхнюю папку"
   ]
  },
  {
   "cell_type": "code",
   "execution_count": 3,
   "metadata": {},
   "outputs": [],
   "source": [
    "def path_to_group_name(dir_adress): # ссылка на таблицу\n",
    "    index_list = []\n",
    "    # print(dir_adress)\n",
    "    for index,value in enumerate(dir_adress): # проходим все символы в ссылке\n",
    "        if value == \"/\":\n",
    "            index_list.append(index)\n",
    "    \n",
    "    index_group_start,index_group_end = index_list[1],index_list[2] # вручную смотрим на индексы и вписываем\n",
    "    index_sample_start,index_sample_end = index_list[2],index_list[3] #\n",
    "\n",
    "    group_name = dir_adress[index_group_start+1:index_group_end] # выводим символы  между слешами из ссылки\n",
    "    sample_name = dir_adress[index_sample_start+1:index_sample_end] # \n",
    "    return group_name,sample_name \n"
   ]
  },
  {
   "cell_type": "code",
   "execution_count": 4,
   "metadata": {},
   "outputs": [],
   "source": [
    "def Count_of_Area(correct_path,group_name,sample_name):\n",
    "    islet_data_df_i = pd.read_csv(correct_path)\n",
    "    data_i = islet_data_df_i[['ImageNumber','AreaShape_Area', 'Children_Islet_nucleus_Count','Children_Object_Glucagon_wo_double_stain_Count',\n",
    "                              'Children_Object_Insulin_Glucagon_Nuclei_Count',\n",
    "                              'Children_Object_Insulin_wo_double_stain_Count']].copy() # берем  колонки из большой таблицы\n",
    "    data_i['Group'] = group_name # создали колонку \"группа\" и назвали ее символами, которые между слешами в первой части программы\n",
    "    data_i['Sample'] = sample_name\n",
    "    return(data_i)\n",
    "    \n"
   ]
  },
  {
   "cell_type": "code",
   "execution_count": 5,
   "metadata": {},
   "outputs": [],
   "source": [
    "empty_data = {'ImageNumber':[],'AreaShape_Area':[],'Children_Islet_nucleus_Count':[], 'Children_Object_Glucagon_wo_double_stain_Count':[], \n",
    "              'Children_Object_Insulin_Glucagon_Nuclei_Count' :[], 'Children_Object_Insulin_wo_double_stain_Count' :[],'Group':[],'Sample':[]} # это словарь. Заголовок и содержание\n",
    "Number_of_nucleus_df = pd.DataFrame(empty_data) # сама таблица. пустая \n",
    "\n",
    "\n",
    "\n",
    "for address, dirs, files in os.walk(path_dir): # выдает строку с адресом последней папки(address), название всех папок(dirs), название файлов\n",
    "    for file in files:\n",
    "        if \".csv\" in str(file):\n",
    "            full_path = os.path.join(address, file) # добавляет файл к адресу\n",
    "            correct_path = full_path.replace(\"\\\\\",\"/\")\n",
    "            group_name,sample_name = path_to_group_name(correct_path)\n",
    "\n",
    "\n",
    "            if \"MyExpt_Islets\" in str(file):\n",
    "                # print(group_name,sample_name)\n",
    "                Result = Count_of_Area(correct_path,group_name,sample_name)\n",
    "                \n",
    "                Number_of_nucleus_df = pd.concat([Number_of_nucleus_df,Result],axis=0)\n",
    "\n",
    "Number_of_nucleus_df = Number_of_nucleus_df.rename(columns={'AreaShape_Area':'Area,px','Children_Islet_nucleus_Count':'Nucleus_all',\n",
    "                                                             'Children_Object_Glucagon_wo_double_stain_Count':'Glucagon',  \n",
    "                                                             'Children_Object_Insulin_Glucagon_Nuclei_Count': 'Insulin_Glucagon',\n",
    "                                                              'Children_Object_Insulin_wo_double_stain_Count':'Insulin' })\n",
    "\n",
    "\n",
    "Number_of_nucleus_df['Glucagon_part'] = Number_of_nucleus_df['Glucagon'] / Number_of_nucleus_df['Nucleus_all'] *100\n",
    "Number_of_nucleus_df['Insulin_part'] = Number_of_nucleus_df['Insulin'] / Number_of_nucleus_df['Nucleus_all'] *100\n",
    "Number_of_nucleus_df['Insulin_Glucagon_part'] = Number_of_nucleus_df['Insulin_Glucagon'] / Number_of_nucleus_df['Nucleus_all'] *100\n",
    "\n",
    "\n"
   ]
  },
  {
   "cell_type": "code",
   "execution_count": 6,
   "metadata": {},
   "outputs": [],
   "source": [
    "writer = pd.ExcelWriter('C:\\\\Users\\\\Arteys\\\\Desktop\\\\Anya_work\\\\test.xlsx') # \n",
    "\n",
    "Number_of_nucleus_df.to_excel(writer) \n",
    "writer.save()"
   ]
  },
  {
   "cell_type": "code",
   "execution_count": 7,
   "metadata": {},
   "outputs": [
    {
     "name": "stdout",
     "output_type": "stream",
     "text": [
      "[('STZ-AFG', 'Intact'), ('30_days', 'Intact'), ('60_days', 'Intact'), ('Intact', 'Intact')] [('STZ-AFG', 'STZ-AFG'), ('30_days', 'STZ-AFG'), ('60_days', 'STZ-AFG'), ('Intact', 'STZ-AFG')] [('STZ-AFG', '30_days'), ('30_days', '30_days'), ('60_days', '30_days'), ('Intact', '30_days')] [('STZ-AFG', '60_days'), ('30_days', '60_days'), ('60_days', '60_days'), ('Intact', '60_days')]\n"
     ]
    }
   ],
   "source": [
    "unique_group= Number_of_nucleus_df['Group'].unique()\n",
    "\n",
    "\n",
    "pairs_1 = []\n",
    "pairs_2 = []\n",
    "pairs_3 = []\n",
    "pairs_4 = []\n",
    "\n",
    "for group in unique_group:\n",
    "    pairs_1.append(((group),('Intact')))\n",
    "    pairs_2.append(((group),('STZ-AFG')))\n",
    "    pairs_3.append(((group),('30_days')))\n",
    "    pairs_4.append(((group),('60_days')))\n",
    "print(pairs_1,pairs_2,pairs_3,pairs_4)\n",
    "\n"
   ]
  },
  {
   "cell_type": "code",
   "execution_count": 11,
   "metadata": {},
   "outputs": [
    {
     "name": "stdout",
     "output_type": "stream",
     "text": [
      "p-value annotation legend:\n",
      "      ns: p <= 1.00e+00\n",
      "       *: 1.00e-02 < p <= 5.00e-02\n",
      "      **: 1.00e-03 < p <= 1.00e-02\n",
      "     ***: 1.00e-04 < p <= 1.00e-03\n",
      "    ****: p <= 1.00e-04\n",
      "\n",
      "Intact vs. Intact: Kruskal-Wallis independent samples (pairwise between groups), P_val:1.000e+00 Stat=0.000e+00\n",
      "60_days vs. Intact: Kruskal-Wallis independent samples (pairwise between groups), P_val:1.642e-03 Stat=9.912e+00\n",
      "30_days vs. Intact: Kruskal-Wallis independent samples (pairwise between groups), P_val:3.343e-05 Stat=1.721e+01\n",
      "STZ-AFG vs. Intact: Kruskal-Wallis independent samples (pairwise between groups), P_val:3.030e-04 Stat=1.305e+01\n",
      "p-value annotation legend:\n",
      "      ns: p <= 1.00e+00\n",
      "       *: 1.00e-02 < p <= 5.00e-02\n",
      "      **: 1.00e-03 < p <= 1.00e-02\n",
      "     ***: 1.00e-04 < p <= 1.00e-03\n",
      "    ****: p <= 1.00e-04\n",
      "\n",
      "STZ-AFG vs. STZ-AFG: Kruskal-Wallis independent samples (pairwise between groups), P_val:1.000e+00 Stat=0.000e+00\n",
      "STZ-AFG vs. 30_days: Kruskal-Wallis independent samples (pairwise between groups), P_val:5.352e-01 Stat=3.844e-01\n",
      "STZ-AFG vs. 60_days: Kruskal-Wallis independent samples (pairwise between groups), P_val:1.740e-01 Stat=1.848e+00\n",
      "STZ-AFG vs. Intact: Kruskal-Wallis independent samples (pairwise between groups), P_val:3.030e-04 Stat=1.305e+01\n",
      "p-value annotation legend:\n",
      "      ns: p <= 1.00e+00\n",
      "       *: 1.00e-02 < p <= 5.00e-02\n",
      "      **: 1.00e-03 < p <= 1.00e-02\n",
      "     ***: 1.00e-04 < p <= 1.00e-03\n",
      "    ****: p <= 1.00e-04\n",
      "\n",
      "30_days vs. 30_days: Kruskal-Wallis independent samples (pairwise between groups), P_val:1.000e+00 Stat=0.000e+00\n",
      "STZ-AFG vs. 30_days: Kruskal-Wallis independent samples (pairwise between groups), P_val:5.352e-01 Stat=3.844e-01\n",
      "30_days vs. 60_days: Kruskal-Wallis independent samples (pairwise between groups), P_val:3.996e-01 Stat=7.096e-01\n",
      "30_days vs. Intact: Kruskal-Wallis independent samples (pairwise between groups), P_val:3.343e-05 Stat=1.721e+01\n",
      "p-value annotation legend:\n",
      "      ns: p <= 1.00e+00\n",
      "       *: 1.00e-02 < p <= 5.00e-02\n",
      "      **: 1.00e-03 < p <= 1.00e-02\n",
      "     ***: 1.00e-04 < p <= 1.00e-03\n",
      "    ****: p <= 1.00e-04\n",
      "\n",
      "60_days vs. 60_days: Kruskal-Wallis independent samples (pairwise between groups), P_val:1.000e+00 Stat=0.000e+00\n",
      "30_days vs. 60_days: Kruskal-Wallis independent samples (pairwise between groups), P_val:3.996e-01 Stat=7.096e-01\n",
      "60_days vs. Intact: Kruskal-Wallis independent samples (pairwise between groups), P_val:1.642e-03 Stat=9.912e+00\n",
      "STZ-AFG vs. 60_days: Kruskal-Wallis independent samples (pairwise between groups), P_val:1.740e-01 Stat=1.848e+00\n"
     ]
    },
    {
     "data": {
      "text/plain": [
       "(<AxesSubplot:xlabel='Group', ylabel='Glucagon_part'>,\n",
       " [<statannotations.Annotation.Annotation at 0x227217b1f90>,\n",
       "  <statannotations.Annotation.Annotation at 0x2272182fa00>,\n",
       "  <statannotations.Annotation.Annotation at 0x227215882e0>,\n",
       "  <statannotations.Annotation.Annotation at 0x227216f5c60>])"
      ]
     },
     "execution_count": 11,
     "metadata": {},
     "output_type": "execute_result"
    },
    {
     "data": {
      "image/png": "[encoded data removed]",
      "text/plain": [
       "<Figure size 1404x540 with 4 Axes>"
      ]
     },
     "metadata": {
      "needs_background": "light"
     },
     "output_type": "display_data"
    }
   ],
   "source": [
    "fig, axs = plt.subplots(ncols=4) #Количество колонок на панели рисунков\n",
    "fig.set_size_inches(19.5, 7.5) #Размер панели с рисунками\n",
    "\n",
    "sns.barplot(data = Number_of_nucleus_df, x = 'Group', y = 'Glucagon_part',ax=axs[0])\n",
    "sns.barplot(data = Number_of_nucleus_df, x = 'Group', y = 'Glucagon_part',ax=axs[1])\n",
    "sns.barplot(data = Number_of_nucleus_df, x = 'Group', y = 'Glucagon_part',ax=axs[2])\n",
    "sns.barplot(data = Number_of_nucleus_df, x = 'Group', y = 'Glucagon_part',ax=axs[3])\n",
    "\n",
    "annotator = Annotator(axs[0], pairs_1, data=Number_of_nucleus_df, x = 'Group', y = 'Glucagon_part')\n",
    "annotator.configure(test='Kruskal', text_format='star', loc='inside', comparisons_correction=None)\n",
    "\n",
    "annotator.apply_and_annotate()\n",
    "\n",
    "annotator = Annotator(axs[1], pairs_2, data=Number_of_nucleus_df, x = 'Group', y = 'Glucagon_part')\n",
    "annotator.configure(test='Kruskal', text_format='star', loc='inside', comparisons_correction=None)\n",
    "\n",
    "annotator.apply_and_annotate()\n",
    "\n",
    "annotator = Annotator(axs[2], pairs_3, data=Number_of_nucleus_df, x = 'Group', y = 'Glucagon_part')\n",
    "annotator.configure(test='Kruskal', text_format='star', loc='inside', comparisons_correction=None)\n",
    "\n",
    "annotator.apply_and_annotate()\n",
    "\n",
    "annotator = Annotator(axs[3], pairs_4, data=Number_of_nucleus_df, x = 'Group', y = 'Glucagon_part')\n",
    "annotator.configure(test='Kruskal', text_format='star', loc='inside', comparisons_correction=None)\n",
    "\n",
    "annotator.apply_and_annotate()\n"
   ]
  },
  {
   "cell_type": "code",
   "execution_count": 12,
   "metadata": {},
   "outputs": [
    {
     "name": "stdout",
     "output_type": "stream",
     "text": [
      "p-value annotation legend:\n",
      "      ns: p <= 1.00e+00\n",
      "       *: 1.00e-02 < p <= 5.00e-02\n",
      "      **: 1.00e-03 < p <= 1.00e-02\n",
      "     ***: 1.00e-04 < p <= 1.00e-03\n",
      "    ****: p <= 1.00e-04\n",
      "\n",
      "Intact vs. Intact: Kruskal-Wallis independent samples (pairwise between groups), P_val:1.000e+00 Stat=0.000e+00\n",
      "60_days vs. Intact: Kruskal-Wallis independent samples (pairwise between groups), P_val:4.086e-02 Stat=4.182e+00\n",
      "30_days vs. Intact: Kruskal-Wallis independent samples (pairwise between groups), P_val:3.440e-02 Stat=4.475e+00\n",
      "STZ-AFG vs. Intact: Kruskal-Wallis independent samples (pairwise between groups), P_val:1.109e-01 Stat=2.542e+00\n",
      "p-value annotation legend:\n",
      "      ns: p <= 1.00e+00\n",
      "       *: 1.00e-02 < p <= 5.00e-02\n",
      "      **: 1.00e-03 < p <= 1.00e-02\n",
      "     ***: 1.00e-04 < p <= 1.00e-03\n",
      "    ****: p <= 1.00e-04\n",
      "\n",
      "STZ-AFG vs. STZ-AFG: Kruskal-Wallis independent samples (pairwise between groups), P_val:1.000e+00 Stat=0.000e+00\n",
      "STZ-AFG vs. 30_days: Kruskal-Wallis independent samples (pairwise between groups), P_val:9.358e-01 Stat=6.497e-03\n",
      "STZ-AFG vs. 60_days: Kruskal-Wallis independent samples (pairwise between groups), P_val:2.408e-01 Stat=1.376e+00\n",
      "STZ-AFG vs. Intact: Kruskal-Wallis independent samples (pairwise between groups), P_val:1.109e-01 Stat=2.542e+00\n",
      "p-value annotation legend:\n",
      "      ns: p <= 1.00e+00\n",
      "       *: 1.00e-02 < p <= 5.00e-02\n",
      "      **: 1.00e-03 < p <= 1.00e-02\n",
      "     ***: 1.00e-04 < p <= 1.00e-03\n",
      "    ****: p <= 1.00e-04\n",
      "\n",
      "30_days vs. 30_days: Kruskal-Wallis independent samples (pairwise between groups), P_val:1.000e+00 Stat=0.000e+00\n",
      "STZ-AFG vs. 30_days: Kruskal-Wallis independent samples (pairwise between groups), P_val:9.358e-01 Stat=6.497e-03\n",
      "30_days vs. 60_days: Kruskal-Wallis independent samples (pairwise between groups), P_val:3.254e-01 Stat=9.670e-01\n",
      "30_days vs. Intact: Kruskal-Wallis independent samples (pairwise between groups), P_val:3.440e-02 Stat=4.475e+00\n",
      "p-value annotation legend:\n",
      "      ns: p <= 1.00e+00\n",
      "       *: 1.00e-02 < p <= 5.00e-02\n",
      "      **: 1.00e-03 < p <= 1.00e-02\n",
      "     ***: 1.00e-04 < p <= 1.00e-03\n",
      "    ****: p <= 1.00e-04\n",
      "\n",
      "60_days vs. 60_days: Kruskal-Wallis independent samples (pairwise between groups), P_val:1.000e+00 Stat=0.000e+00\n",
      "30_days vs. 60_days: Kruskal-Wallis independent samples (pairwise between groups), P_val:3.254e-01 Stat=9.670e-01\n",
      "60_days vs. Intact: Kruskal-Wallis independent samples (pairwise between groups), P_val:4.086e-02 Stat=4.182e+00\n",
      "STZ-AFG vs. 60_days: Kruskal-Wallis independent samples (pairwise between groups), P_val:2.408e-01 Stat=1.376e+00\n"
     ]
    },
    {
     "data": {
      "text/plain": [
       "(<AxesSubplot:xlabel='Group', ylabel='Insulin_part'>,\n",
       " [<statannotations.Annotation.Annotation at 0x2272182fcd0>,\n",
       "  <statannotations.Annotation.Annotation at 0x227218509d0>,\n",
       "  <statannotations.Annotation.Annotation at 0x22721eb21a0>,\n",
       "  <statannotations.Annotation.Annotation at 0x22721eb17e0>])"
      ]
     },
     "execution_count": 12,
     "metadata": {},
     "output_type": "execute_result"
    },
    {
     "data": {
      "image/png": "[encoded data removed]",
      "text/plain": [
       "<Figure size 1404x540 with 4 Axes>"
      ]
     },
     "metadata": {
      "needs_background": "light"
     },
     "output_type": "display_data"
    }
   ],
   "source": [
    "fig, axs = plt.subplots(ncols=4) #Количество колонок на панели рисунков\n",
    "fig.set_size_inches(19.5, 7.5) #Размер панели с рисунками\n",
    "\n",
    "sns.barplot(data = Number_of_nucleus_df, x = 'Group', y = 'Insulin_part',ax=axs[0])\n",
    "sns.barplot(data = Number_of_nucleus_df, x = 'Group', y = 'Insulin_part',ax=axs[1])\n",
    "sns.barplot(data = Number_of_nucleus_df, x = 'Group', y = 'Insulin_part',ax=axs[2])\n",
    "sns.barplot(data = Number_of_nucleus_df, x = 'Group', y = 'Insulin_part',ax=axs[3])\n",
    "\n",
    "annotator = Annotator(axs[0], pairs_1, data=Number_of_nucleus_df, x = 'Group', y = 'Insulin_part')\n",
    "annotator.configure(test='Kruskal', text_format='star', loc='inside', comparisons_correction=None)\n",
    "\n",
    "annotator.apply_and_annotate()\n",
    "\n",
    "annotator = Annotator(axs[1], pairs_2, data=Number_of_nucleus_df, x = 'Group', y = 'Insulin_part')\n",
    "annotator.configure(test='Kruskal', text_format='star', loc='inside', comparisons_correction=None)\n",
    "\n",
    "annotator.apply_and_annotate()\n",
    "\n",
    "annotator = Annotator(axs[2], pairs_3, data=Number_of_nucleus_df, x = 'Group', y = 'Insulin_part')\n",
    "annotator.configure(test='Kruskal', text_format='star', loc='inside', comparisons_correction=None)\n",
    "\n",
    "annotator.apply_and_annotate()\n",
    "\n",
    "annotator = Annotator(axs[3], pairs_4, data=Number_of_nucleus_df, x = 'Group', y = 'Insulin_part')\n",
    "annotator.configure(test='Kruskal', text_format='star', loc='inside', comparisons_correction=None)\n",
    "\n",
    "annotator.apply_and_annotate()\n",
    "\n"
   ]
  },
  {
   "cell_type": "code",
   "execution_count": 13,
   "metadata": {},
   "outputs": [
    {
     "name": "stdout",
     "output_type": "stream",
     "text": [
      "p-value annotation legend:\n",
      "      ns: p <= 1.00e+00\n",
      "       *: 1.00e-02 < p <= 5.00e-02\n",
      "      **: 1.00e-03 < p <= 1.00e-02\n",
      "     ***: 1.00e-04 < p <= 1.00e-03\n",
      "    ****: p <= 1.00e-04\n",
      "\n",
      "Intact vs. Intact: Kruskal-Wallis independent samples (pairwise between groups), P_val:1.000e+00 Stat=0.000e+00\n",
      "60_days vs. Intact: Kruskal-Wallis independent samples (pairwise between groups), P_val:8.787e-01 Stat=2.331e-02\n",
      "30_days vs. Intact: Kruskal-Wallis independent samples (pairwise between groups), P_val:1.602e-01 Stat=1.972e+00\n",
      "STZ-AFG vs. Intact: Kruskal-Wallis independent samples (pairwise between groups), P_val:5.753e-01 Stat=3.138e-01\n",
      "p-value annotation legend:\n",
      "      ns: p <= 1.00e+00\n",
      "       *: 1.00e-02 < p <= 5.00e-02\n",
      "      **: 1.00e-03 < p <= 1.00e-02\n",
      "     ***: 1.00e-04 < p <= 1.00e-03\n",
      "    ****: p <= 1.00e-04\n",
      "\n",
      "STZ-AFG vs. STZ-AFG: Kruskal-Wallis independent samples (pairwise between groups), P_val:1.000e+00 Stat=0.000e+00\n",
      "STZ-AFG vs. 30_days: Kruskal-Wallis independent samples (pairwise between groups), P_val:4.285e-01 Stat=6.268e-01\n",
      "STZ-AFG vs. 60_days: Kruskal-Wallis independent samples (pairwise between groups), P_val:5.567e-01 Stat=3.455e-01\n",
      "STZ-AFG vs. Intact: Kruskal-Wallis independent samples (pairwise between groups), P_val:5.753e-01 Stat=3.138e-01\n",
      "p-value annotation legend:\n",
      "      ns: p <= 1.00e+00\n",
      "       *: 1.00e-02 < p <= 5.00e-02\n",
      "      **: 1.00e-03 < p <= 1.00e-02\n",
      "     ***: 1.00e-04 < p <= 1.00e-03\n",
      "    ****: p <= 1.00e-04\n",
      "\n",
      "30_days vs. 30_days: Kruskal-Wallis independent samples (pairwise between groups), P_val:1.000e+00 Stat=0.000e+00\n",
      "STZ-AFG vs. 30_days: Kruskal-Wallis independent samples (pairwise between groups), P_val:4.285e-01 Stat=6.268e-01\n",
      "30_days vs. 60_days: Kruskal-Wallis independent samples (pairwise between groups), P_val:1.449e-01 Stat=2.125e+00\n",
      "30_days vs. Intact: Kruskal-Wallis independent samples (pairwise between groups), P_val:1.602e-01 Stat=1.972e+00\n",
      "p-value annotation legend:\n",
      "      ns: p <= 1.00e+00\n",
      "       *: 1.00e-02 < p <= 5.00e-02\n",
      "      **: 1.00e-03 < p <= 1.00e-02\n",
      "     ***: 1.00e-04 < p <= 1.00e-03\n",
      "    ****: p <= 1.00e-04\n",
      "\n",
      "60_days vs. 60_days: Kruskal-Wallis independent samples (pairwise between groups), P_val:1.000e+00 Stat=0.000e+00\n",
      "30_days vs. 60_days: Kruskal-Wallis independent samples (pairwise between groups), P_val:1.449e-01 Stat=2.125e+00\n",
      "60_days vs. Intact: Kruskal-Wallis independent samples (pairwise between groups), P_val:8.787e-01 Stat=2.331e-02\n",
      "STZ-AFG vs. 60_days: Kruskal-Wallis independent samples (pairwise between groups), P_val:5.567e-01 Stat=3.455e-01\n"
     ]
    },
    {
     "data": {
      "text/plain": [
       "(<AxesSubplot:xlabel='Group', ylabel='Insulin_Glucagon_part'>,\n",
       " [<statannotations.Annotation.Annotation at 0x22721fbbe50>,\n",
       "  <statannotations.Annotation.Annotation at 0x22722024940>,\n",
       "  <statannotations.Annotation.Annotation at 0x227229b2f50>,\n",
       "  <statannotations.Annotation.Annotation at 0x227229b3d00>])"
      ]
     },
     "execution_count": 13,
     "metadata": {},
     "output_type": "execute_result"
    },
    {
     "data": {
      "image/png": "[encoded data removed]",
      "text/plain": [
       "<Figure size 1404x540 with 4 Axes>"
      ]
     },
     "metadata": {
      "needs_background": "light"
     },
     "output_type": "display_data"
    }
   ],
   "source": [
    "fig, axs = plt.subplots(ncols=4) #Количество колонок на панели рисунков\n",
    "fig.set_size_inches(19.5, 7.5) #Размер панели с рисунками\n",
    "\n",
    "sns.barplot(data = Number_of_nucleus_df, x = 'Group', y = 'Insulin_Glucagon_part',ax=axs[0])\n",
    "sns.barplot(data = Number_of_nucleus_df, x = 'Group', y = 'Insulin_Glucagon_part',ax=axs[1])\n",
    "sns.barplot(data = Number_of_nucleus_df, x = 'Group', y = 'Insulin_Glucagon_part',ax=axs[2])\n",
    "sns.barplot(data = Number_of_nucleus_df, x = 'Group', y = 'Insulin_Glucagon_part',ax=axs[3])\n",
    "\n",
    "annotator = Annotator(axs[0], pairs_1, data=Number_of_nucleus_df, x = 'Group', y = 'Insulin_Glucagon_part')\n",
    "annotator.configure(test='Kruskal', text_format='star', loc='inside', comparisons_correction=None)\n",
    "\n",
    "annotator.apply_and_annotate()\n",
    "\n",
    "annotator = Annotator(axs[1], pairs_2, data=Number_of_nucleus_df, x = 'Group', y = 'Insulin_Glucagon_part')\n",
    "annotator.configure(test='Kruskal', text_format='star', loc='inside', comparisons_correction=None)\n",
    "\n",
    "annotator.apply_and_annotate()\n",
    "\n",
    "annotator = Annotator(axs[2], pairs_3, data=Number_of_nucleus_df, x = 'Group', y = 'Insulin_Glucagon_part')\n",
    "annotator.configure(test='Kruskal', text_format='star', loc='inside', comparisons_correction=None)\n",
    "\n",
    "annotator.apply_and_annotate()\n",
    "\n",
    "annotator = Annotator(axs[3], pairs_4, data=Number_of_nucleus_df, x = 'Group', y = 'Insulin_Glucagon_part')\n",
    "annotator.configure(test='Kruskal', text_format='star', loc='inside', comparisons_correction=None)\n",
    "\n",
    "annotator.apply_and_annotate()\n",
    "\n"
   ]
  }
 ],
 "metadata": {
  "kernelspec": {
   "display_name": "Python 3",
   "language": "python",
   "name": "python3"
  },
  "language_info": {
   "codemirror_mode": {
    "name": "ipython",
    "version": 3
   },
   "file_extension": ".py",
   "mimetype": "text/x-python",
   "name": "python",
   "nbconvert_exporter": "python",
   "pygments_lexer": "ipython3",
   "version": "3.10.2"
  },
  "orig_nbformat": 4,
  "vscode": {
   "interpreter": {
    "hash": "bd77e5382adf6efaa08b87ef8f7cc4d4ab6a3a8417c5d1f4620176c6b28ea22f"
   }
  }
 },
 "nbformat": 4,
 "nbformat_minor": 2
}
